{
  "nbformat": 4,
  "nbformat_minor": 0,
  "metadata": {
    "colab": {
      "provenance": []
    },
    "kernelspec": {
      "name": "python3",
      "display_name": "Python 3"
    },
    "language_info": {
      "name": "python"
    }
  },
  "cells": [
    {
      "cell_type": "code",
      "source": [
        "### Day3"
      ],
      "metadata": {
        "id": "vtIZ9b13QZs2"
      },
      "execution_count": null,
      "outputs": []
    },
    {
      "cell_type": "code",
      "source": [
        "subject1 = int(input(\"Enter marks for subject 1: \"))\n",
        "subject2 = int(input(\"Enter marks for subject 2: \"))\n",
        "subject3 = int(input(\"Enter marks for subject 3: \"))\n",
        "\n",
        "average=(subject1+subject2+subject3)/3\n",
        "\n",
        "if average>=90:\n",
        "  print(\"Grade: A\")\n",
        "elif average>=80 :\n",
        "  print(\"Grade: B\")\n",
        "elif average>=70:\n",
        "  print(\"Grade: C\")\n",
        "else:\n",
        "  print(\"Grade: Fail\")"
      ],
      "metadata": {
        "colab": {
          "base_uri": "https://localhost:8080/"
        },
        "id": "tVEbGZGIPain",
        "outputId": "3feb4342-e4ae-46d3-e34a-26e12e746b0d"
      },
      "execution_count": 4,
      "outputs": [
        {
          "output_type": "stream",
          "name": "stdout",
          "text": [
            "Enter marks for subject 1: 93\n",
            "Enter marks for subject 2: 95\n",
            "Enter marks for subject 3: 91\n",
            "Grade: A\n"
          ]
        }
      ]
    },
    {
      "cell_type": "code",
      "source": [],
      "metadata": {
        "id": "rbDNa-MWQYJ-"
      },
      "execution_count": null,
      "outputs": []
    }
  ]
}